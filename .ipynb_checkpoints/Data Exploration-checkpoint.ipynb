{
 "cells": [
  {
   "cell_type": "code",
   "execution_count": 1,
   "metadata": {},
   "outputs": [],
   "source": [
    "import pandas as pd\n",
    "import numpy as np\n",
    "import os\n",
    "import matplotlib.pyplot as plt"
   ]
  },
  {
   "cell_type": "code",
   "execution_count": 2,
   "metadata": {},
   "outputs": [
    {
     "data": {
      "text/html": [
       "<div>\n",
       "<style scoped>\n",
       "    .dataframe tbody tr th:only-of-type {\n",
       "        vertical-align: middle;\n",
       "    }\n",
       "\n",
       "    .dataframe tbody tr th {\n",
       "        vertical-align: top;\n",
       "    }\n",
       "\n",
       "    .dataframe thead th {\n",
       "        text-align: right;\n",
       "    }\n",
       "</style>\n",
       "<table border=\"1\" class=\"dataframe\">\n",
       "  <thead>\n",
       "    <tr style=\"text-align: right;\">\n",
       "      <th></th>\n",
       "      <th>parent_protein_id</th>\n",
       "      <th>protein_seq</th>\n",
       "      <th>start_position</th>\n",
       "      <th>end_position</th>\n",
       "      <th>peptide_seq</th>\n",
       "      <th>chou_fasman</th>\n",
       "      <th>emini</th>\n",
       "      <th>kolaskar_tongaonkar</th>\n",
       "      <th>parker</th>\n",
       "      <th>isoelectric_point</th>\n",
       "      <th>aromaticity</th>\n",
       "      <th>hydrophobicity</th>\n",
       "      <th>stability</th>\n",
       "      <th>target</th>\n",
       "    </tr>\n",
       "  </thead>\n",
       "  <tbody>\n",
       "    <tr>\n",
       "      <th>0</th>\n",
       "      <td>A2T3T0</td>\n",
       "      <td>MDVLYSLSKTLKDARDKIVEGTLYSNVSDLIQQFNQMIITMNGNEF...</td>\n",
       "      <td>161</td>\n",
       "      <td>165</td>\n",
       "      <td>SASFT</td>\n",
       "      <td>1.016</td>\n",
       "      <td>0.703</td>\n",
       "      <td>1.018</td>\n",
       "      <td>2.220</td>\n",
       "      <td>5.810364</td>\n",
       "      <td>0.103275</td>\n",
       "      <td>-0.143829</td>\n",
       "      <td>40.273300</td>\n",
       "      <td>1</td>\n",
       "    </tr>\n",
       "    <tr>\n",
       "      <th>1</th>\n",
       "      <td>F0V2I4</td>\n",
       "      <td>MTIHKVAINGFGRIGRLLFRNLLSSQGVQVVAVNDVVDIKVLTHLL...</td>\n",
       "      <td>251</td>\n",
       "      <td>255</td>\n",
       "      <td>LCLKI</td>\n",
       "      <td>0.770</td>\n",
       "      <td>0.179</td>\n",
       "      <td>1.199</td>\n",
       "      <td>-3.860</td>\n",
       "      <td>6.210876</td>\n",
       "      <td>0.065476</td>\n",
       "      <td>-0.036905</td>\n",
       "      <td>24.998512</td>\n",
       "      <td>1</td>\n",
       "    </tr>\n",
       "    <tr>\n",
       "      <th>2</th>\n",
       "      <td>O75508</td>\n",
       "      <td>MVATCLQVVGFVTSFVGWIGVIVTTSTNDWVVTCGYTIPTCRKLDE...</td>\n",
       "      <td>145</td>\n",
       "      <td>149</td>\n",
       "      <td>AHRET</td>\n",
       "      <td>0.852</td>\n",
       "      <td>3.427</td>\n",
       "      <td>0.960</td>\n",
       "      <td>4.280</td>\n",
       "      <td>8.223938</td>\n",
       "      <td>0.091787</td>\n",
       "      <td>0.879227</td>\n",
       "      <td>27.863333</td>\n",
       "      <td>1</td>\n",
       "    </tr>\n",
       "    <tr>\n",
       "      <th>3</th>\n",
       "      <td>O84462</td>\n",
       "      <td>MTNSISGYQPTVTTSTSSTTSASGASGSLGASSVSTTANATVTQTA...</td>\n",
       "      <td>152</td>\n",
       "      <td>156</td>\n",
       "      <td>SNYDD</td>\n",
       "      <td>1.410</td>\n",
       "      <td>2.548</td>\n",
       "      <td>0.936</td>\n",
       "      <td>6.320</td>\n",
       "      <td>4.237976</td>\n",
       "      <td>0.044776</td>\n",
       "      <td>-0.521393</td>\n",
       "      <td>30.765373</td>\n",
       "      <td>1</td>\n",
       "    </tr>\n",
       "    <tr>\n",
       "      <th>4</th>\n",
       "      <td>P00918</td>\n",
       "      <td>MSHHWGYGKHNGPEHWHKDFPIAKGERQSPVDIDTHTAKYDPSLKP...</td>\n",
       "      <td>85</td>\n",
       "      <td>89</td>\n",
       "      <td>DGTYR</td>\n",
       "      <td>1.214</td>\n",
       "      <td>1.908</td>\n",
       "      <td>0.937</td>\n",
       "      <td>4.640</td>\n",
       "      <td>6.867493</td>\n",
       "      <td>0.103846</td>\n",
       "      <td>-0.578846</td>\n",
       "      <td>21.684615</td>\n",
       "      <td>1</td>\n",
       "    </tr>\n",
       "    <tr>\n",
       "      <th>...</th>\n",
       "      <td>...</td>\n",
       "      <td>...</td>\n",
       "      <td>...</td>\n",
       "      <td>...</td>\n",
       "      <td>...</td>\n",
       "      <td>...</td>\n",
       "      <td>...</td>\n",
       "      <td>...</td>\n",
       "      <td>...</td>\n",
       "      <td>...</td>\n",
       "      <td>...</td>\n",
       "      <td>...</td>\n",
       "      <td>...</td>\n",
       "      <td>...</td>\n",
       "    </tr>\n",
       "    <tr>\n",
       "      <th>14382</th>\n",
       "      <td>Q91DE1</td>\n",
       "      <td>MDRGTRRIWVSQNQGDTDLDYHKILTAGLTVQQGIVRQKIISVYLV...</td>\n",
       "      <td>177</td>\n",
       "      <td>191</td>\n",
       "      <td>QVHAEQGLIQYPTAW</td>\n",
       "      <td>0.910</td>\n",
       "      <td>0.175</td>\n",
       "      <td>1.054</td>\n",
       "      <td>0.820</td>\n",
       "      <td>4.894836</td>\n",
       "      <td>0.071719</td>\n",
       "      <td>-0.701083</td>\n",
       "      <td>46.875237</td>\n",
       "      <td>0</td>\n",
       "    </tr>\n",
       "    <tr>\n",
       "      <th>14383</th>\n",
       "      <td>Q91DE1</td>\n",
       "      <td>MDRGTRRIWVSQNQGDTDLDYHKILTAGLTVQQGIVRQKIISVYLV...</td>\n",
       "      <td>285</td>\n",
       "      <td>299</td>\n",
       "      <td>SSLAKHGEYAPFARL</td>\n",
       "      <td>0.966</td>\n",
       "      <td>0.216</td>\n",
       "      <td>1.044</td>\n",
       "      <td>1.160</td>\n",
       "      <td>4.894836</td>\n",
       "      <td>0.071719</td>\n",
       "      <td>-0.701083</td>\n",
       "      <td>46.875237</td>\n",
       "      <td>0</td>\n",
       "    </tr>\n",
       "    <tr>\n",
       "      <th>14384</th>\n",
       "      <td>Q91DE1</td>\n",
       "      <td>MDRGTRRIWVSQNQGDTDLDYHKILTAGLTVQQGIVRQKIISVYLV...</td>\n",
       "      <td>189</td>\n",
       "      <td>203</td>\n",
       "      <td>TAWQSVGHMMVIFRL</td>\n",
       "      <td>0.821</td>\n",
       "      <td>0.023</td>\n",
       "      <td>1.044</td>\n",
       "      <td>-1.360</td>\n",
       "      <td>4.894836</td>\n",
       "      <td>0.071719</td>\n",
       "      <td>-0.701083</td>\n",
       "      <td>46.875237</td>\n",
       "      <td>0</td>\n",
       "    </tr>\n",
       "    <tr>\n",
       "      <th>14385</th>\n",
       "      <td>Q9QZS0</td>\n",
       "      <td>MHSKTAPRFLVFLLLTLLLLLAASPVASKGCVCKGKGQCLCAGTKG...</td>\n",
       "      <td>1479</td>\n",
       "      <td>1493</td>\n",
       "      <td>KRAHGQDLGTLGSCL</td>\n",
       "      <td>1.069</td>\n",
       "      <td>0.239</td>\n",
       "      <td>1.037</td>\n",
       "      <td>2.180</td>\n",
       "      <td>9.553040</td>\n",
       "      <td>0.044338</td>\n",
       "      <td>-0.671001</td>\n",
       "      <td>29.494308</td>\n",
       "      <td>0</td>\n",
       "    </tr>\n",
       "    <tr>\n",
       "      <th>14386</th>\n",
       "      <td>Q9QZS0</td>\n",
       "      <td>MHSKTAPRFLVFLLLTLLLLLAASPVASKGCVCKGKGQCLCAGTKG...</td>\n",
       "      <td>1647</td>\n",
       "      <td>1661</td>\n",
       "      <td>STVKAGDLEKIISRC</td>\n",
       "      <td>0.962</td>\n",
       "      <td>0.257</td>\n",
       "      <td>1.045</td>\n",
       "      <td>2.127</td>\n",
       "      <td>9.553040</td>\n",
       "      <td>0.044338</td>\n",
       "      <td>-0.671001</td>\n",
       "      <td>29.494308</td>\n",
       "      <td>1</td>\n",
       "    </tr>\n",
       "  </tbody>\n",
       "</table>\n",
       "<p>14387 rows × 14 columns</p>\n",
       "</div>"
      ],
      "text/plain": [
       "      parent_protein_id                                        protein_seq  \\\n",
       "0                A2T3T0  MDVLYSLSKTLKDARDKIVEGTLYSNVSDLIQQFNQMIITMNGNEF...   \n",
       "1                F0V2I4  MTIHKVAINGFGRIGRLLFRNLLSSQGVQVVAVNDVVDIKVLTHLL...   \n",
       "2                O75508  MVATCLQVVGFVTSFVGWIGVIVTTSTNDWVVTCGYTIPTCRKLDE...   \n",
       "3                O84462  MTNSISGYQPTVTTSTSSTTSASGASGSLGASSVSTTANATVTQTA...   \n",
       "4                P00918  MSHHWGYGKHNGPEHWHKDFPIAKGERQSPVDIDTHTAKYDPSLKP...   \n",
       "...                 ...                                                ...   \n",
       "14382            Q91DE1  MDRGTRRIWVSQNQGDTDLDYHKILTAGLTVQQGIVRQKIISVYLV...   \n",
       "14383            Q91DE1  MDRGTRRIWVSQNQGDTDLDYHKILTAGLTVQQGIVRQKIISVYLV...   \n",
       "14384            Q91DE1  MDRGTRRIWVSQNQGDTDLDYHKILTAGLTVQQGIVRQKIISVYLV...   \n",
       "14385            Q9QZS0  MHSKTAPRFLVFLLLTLLLLLAASPVASKGCVCKGKGQCLCAGTKG...   \n",
       "14386            Q9QZS0  MHSKTAPRFLVFLLLTLLLLLAASPVASKGCVCKGKGQCLCAGTKG...   \n",
       "\n",
       "       start_position  end_position      peptide_seq  chou_fasman  emini  \\\n",
       "0                 161           165            SASFT        1.016  0.703   \n",
       "1                 251           255            LCLKI        0.770  0.179   \n",
       "2                 145           149            AHRET        0.852  3.427   \n",
       "3                 152           156            SNYDD        1.410  2.548   \n",
       "4                  85            89            DGTYR        1.214  1.908   \n",
       "...               ...           ...              ...          ...    ...   \n",
       "14382             177           191  QVHAEQGLIQYPTAW        0.910  0.175   \n",
       "14383             285           299  SSLAKHGEYAPFARL        0.966  0.216   \n",
       "14384             189           203  TAWQSVGHMMVIFRL        0.821  0.023   \n",
       "14385            1479          1493  KRAHGQDLGTLGSCL        1.069  0.239   \n",
       "14386            1647          1661  STVKAGDLEKIISRC        0.962  0.257   \n",
       "\n",
       "       kolaskar_tongaonkar  parker  isoelectric_point  aromaticity  \\\n",
       "0                    1.018   2.220           5.810364     0.103275   \n",
       "1                    1.199  -3.860           6.210876     0.065476   \n",
       "2                    0.960   4.280           8.223938     0.091787   \n",
       "3                    0.936   6.320           4.237976     0.044776   \n",
       "4                    0.937   4.640           6.867493     0.103846   \n",
       "...                    ...     ...                ...          ...   \n",
       "14382                1.054   0.820           4.894836     0.071719   \n",
       "14383                1.044   1.160           4.894836     0.071719   \n",
       "14384                1.044  -1.360           4.894836     0.071719   \n",
       "14385                1.037   2.180           9.553040     0.044338   \n",
       "14386                1.045   2.127           9.553040     0.044338   \n",
       "\n",
       "       hydrophobicity  stability  target  \n",
       "0           -0.143829  40.273300       1  \n",
       "1           -0.036905  24.998512       1  \n",
       "2            0.879227  27.863333       1  \n",
       "3           -0.521393  30.765373       1  \n",
       "4           -0.578846  21.684615       1  \n",
       "...               ...        ...     ...  \n",
       "14382       -0.701083  46.875237       0  \n",
       "14383       -0.701083  46.875237       0  \n",
       "14384       -0.701083  46.875237       0  \n",
       "14385       -0.671001  29.494308       0  \n",
       "14386       -0.671001  29.494308       1  \n",
       "\n",
       "[14387 rows x 14 columns]"
      ]
     },
     "execution_count": 2,
     "metadata": {},
     "output_type": "execute_result"
    }
   ],
   "source": [
    "df = pd.read_csv(os.path.join('data','input_bcell.csv'))\n",
    "df"
   ]
  },
  {
   "cell_type": "code",
   "execution_count": 3,
   "metadata": {},
   "outputs": [],
   "source": [
    "unique_protiens_sequences = [i for i in df.protein_seq.unique()]"
   ]
  },
  {
   "cell_type": "code",
   "execution_count": 4,
   "metadata": {},
   "outputs": [
    {
     "data": {
      "text/plain": [
       "757"
      ]
     },
     "execution_count": 4,
     "metadata": {},
     "output_type": "execute_result"
    }
   ],
   "source": [
    "len(unique_protiens_sequences)"
   ]
  },
  {
   "cell_type": "code",
   "execution_count": 5,
   "metadata": {},
   "outputs": [],
   "source": [
    "unique_peptide_sequences = [i for i in df.peptide_seq.unique()]"
   ]
  },
  {
   "cell_type": "code",
   "execution_count": 7,
   "metadata": {},
   "outputs": [
    {
     "data": {
      "text/plain": [
       "14362"
      ]
     },
     "execution_count": 7,
     "metadata": {},
     "output_type": "execute_result"
    }
   ],
   "source": [
    "len(unique_peptide_sequences)"
   ]
  },
  {
   "cell_type": "code",
   "execution_count": 9,
   "metadata": {},
   "outputs": [
    {
     "data": {
      "text/plain": [
       "parent_protein_id       object\n",
       "protein_seq             object\n",
       "start_position           int64\n",
       "end_position             int64\n",
       "peptide_seq             object\n",
       "chou_fasman            float64\n",
       "emini                  float64\n",
       "kolaskar_tongaonkar    float64\n",
       "parker                 float64\n",
       "isoelectric_point      float64\n",
       "aromaticity            float64\n",
       "hydrophobicity         float64\n",
       "stability              float64\n",
       "target                   int64\n",
       "dtype: object"
      ]
     },
     "execution_count": 9,
     "metadata": {},
     "output_type": "execute_result"
    }
   ],
   "source": [
    "df.dtypes"
   ]
  },
  {
   "cell_type": "code",
   "execution_count": 10,
   "metadata": {},
   "outputs": [
    {
     "data": {
      "text/html": [
       "<div>\n",
       "<style scoped>\n",
       "    .dataframe tbody tr th:only-of-type {\n",
       "        vertical-align: middle;\n",
       "    }\n",
       "\n",
       "    .dataframe tbody tr th {\n",
       "        vertical-align: top;\n",
       "    }\n",
       "\n",
       "    .dataframe thead th {\n",
       "        text-align: right;\n",
       "    }\n",
       "</style>\n",
       "<table border=\"1\" class=\"dataframe\">\n",
       "  <thead>\n",
       "    <tr style=\"text-align: right;\">\n",
       "      <th></th>\n",
       "      <th>start_position</th>\n",
       "      <th>end_position</th>\n",
       "      <th>chou_fasman</th>\n",
       "      <th>emini</th>\n",
       "      <th>kolaskar_tongaonkar</th>\n",
       "      <th>parker</th>\n",
       "      <th>isoelectric_point</th>\n",
       "      <th>aromaticity</th>\n",
       "      <th>hydrophobicity</th>\n",
       "      <th>stability</th>\n",
       "      <th>target</th>\n",
       "    </tr>\n",
       "  </thead>\n",
       "  <tbody>\n",
       "    <tr>\n",
       "      <th>0</th>\n",
       "      <td>161</td>\n",
       "      <td>165</td>\n",
       "      <td>1.016</td>\n",
       "      <td>0.703</td>\n",
       "      <td>1.018</td>\n",
       "      <td>2.220</td>\n",
       "      <td>5.810364</td>\n",
       "      <td>0.103275</td>\n",
       "      <td>-0.143829</td>\n",
       "      <td>40.273300</td>\n",
       "      <td>1</td>\n",
       "    </tr>\n",
       "    <tr>\n",
       "      <th>1</th>\n",
       "      <td>251</td>\n",
       "      <td>255</td>\n",
       "      <td>0.770</td>\n",
       "      <td>0.179</td>\n",
       "      <td>1.199</td>\n",
       "      <td>-3.860</td>\n",
       "      <td>6.210876</td>\n",
       "      <td>0.065476</td>\n",
       "      <td>-0.036905</td>\n",
       "      <td>24.998512</td>\n",
       "      <td>1</td>\n",
       "    </tr>\n",
       "    <tr>\n",
       "      <th>2</th>\n",
       "      <td>145</td>\n",
       "      <td>149</td>\n",
       "      <td>0.852</td>\n",
       "      <td>3.427</td>\n",
       "      <td>0.960</td>\n",
       "      <td>4.280</td>\n",
       "      <td>8.223938</td>\n",
       "      <td>0.091787</td>\n",
       "      <td>0.879227</td>\n",
       "      <td>27.863333</td>\n",
       "      <td>1</td>\n",
       "    </tr>\n",
       "    <tr>\n",
       "      <th>3</th>\n",
       "      <td>152</td>\n",
       "      <td>156</td>\n",
       "      <td>1.410</td>\n",
       "      <td>2.548</td>\n",
       "      <td>0.936</td>\n",
       "      <td>6.320</td>\n",
       "      <td>4.237976</td>\n",
       "      <td>0.044776</td>\n",
       "      <td>-0.521393</td>\n",
       "      <td>30.765373</td>\n",
       "      <td>1</td>\n",
       "    </tr>\n",
       "    <tr>\n",
       "      <th>4</th>\n",
       "      <td>85</td>\n",
       "      <td>89</td>\n",
       "      <td>1.214</td>\n",
       "      <td>1.908</td>\n",
       "      <td>0.937</td>\n",
       "      <td>4.640</td>\n",
       "      <td>6.867493</td>\n",
       "      <td>0.103846</td>\n",
       "      <td>-0.578846</td>\n",
       "      <td>21.684615</td>\n",
       "      <td>1</td>\n",
       "    </tr>\n",
       "    <tr>\n",
       "      <th>...</th>\n",
       "      <td>...</td>\n",
       "      <td>...</td>\n",
       "      <td>...</td>\n",
       "      <td>...</td>\n",
       "      <td>...</td>\n",
       "      <td>...</td>\n",
       "      <td>...</td>\n",
       "      <td>...</td>\n",
       "      <td>...</td>\n",
       "      <td>...</td>\n",
       "      <td>...</td>\n",
       "    </tr>\n",
       "    <tr>\n",
       "      <th>14382</th>\n",
       "      <td>177</td>\n",
       "      <td>191</td>\n",
       "      <td>0.910</td>\n",
       "      <td>0.175</td>\n",
       "      <td>1.054</td>\n",
       "      <td>0.820</td>\n",
       "      <td>4.894836</td>\n",
       "      <td>0.071719</td>\n",
       "      <td>-0.701083</td>\n",
       "      <td>46.875237</td>\n",
       "      <td>0</td>\n",
       "    </tr>\n",
       "    <tr>\n",
       "      <th>14383</th>\n",
       "      <td>285</td>\n",
       "      <td>299</td>\n",
       "      <td>0.966</td>\n",
       "      <td>0.216</td>\n",
       "      <td>1.044</td>\n",
       "      <td>1.160</td>\n",
       "      <td>4.894836</td>\n",
       "      <td>0.071719</td>\n",
       "      <td>-0.701083</td>\n",
       "      <td>46.875237</td>\n",
       "      <td>0</td>\n",
       "    </tr>\n",
       "    <tr>\n",
       "      <th>14384</th>\n",
       "      <td>189</td>\n",
       "      <td>203</td>\n",
       "      <td>0.821</td>\n",
       "      <td>0.023</td>\n",
       "      <td>1.044</td>\n",
       "      <td>-1.360</td>\n",
       "      <td>4.894836</td>\n",
       "      <td>0.071719</td>\n",
       "      <td>-0.701083</td>\n",
       "      <td>46.875237</td>\n",
       "      <td>0</td>\n",
       "    </tr>\n",
       "    <tr>\n",
       "      <th>14385</th>\n",
       "      <td>1479</td>\n",
       "      <td>1493</td>\n",
       "      <td>1.069</td>\n",
       "      <td>0.239</td>\n",
       "      <td>1.037</td>\n",
       "      <td>2.180</td>\n",
       "      <td>9.553040</td>\n",
       "      <td>0.044338</td>\n",
       "      <td>-0.671001</td>\n",
       "      <td>29.494308</td>\n",
       "      <td>0</td>\n",
       "    </tr>\n",
       "    <tr>\n",
       "      <th>14386</th>\n",
       "      <td>1647</td>\n",
       "      <td>1661</td>\n",
       "      <td>0.962</td>\n",
       "      <td>0.257</td>\n",
       "      <td>1.045</td>\n",
       "      <td>2.127</td>\n",
       "      <td>9.553040</td>\n",
       "      <td>0.044338</td>\n",
       "      <td>-0.671001</td>\n",
       "      <td>29.494308</td>\n",
       "      <td>1</td>\n",
       "    </tr>\n",
       "  </tbody>\n",
       "</table>\n",
       "<p>14387 rows × 11 columns</p>\n",
       "</div>"
      ],
      "text/plain": [
       "       start_position  end_position  chou_fasman  emini  kolaskar_tongaonkar  \\\n",
       "0                 161           165        1.016  0.703                1.018   \n",
       "1                 251           255        0.770  0.179                1.199   \n",
       "2                 145           149        0.852  3.427                0.960   \n",
       "3                 152           156        1.410  2.548                0.936   \n",
       "4                  85            89        1.214  1.908                0.937   \n",
       "...               ...           ...          ...    ...                  ...   \n",
       "14382             177           191        0.910  0.175                1.054   \n",
       "14383             285           299        0.966  0.216                1.044   \n",
       "14384             189           203        0.821  0.023                1.044   \n",
       "14385            1479          1493        1.069  0.239                1.037   \n",
       "14386            1647          1661        0.962  0.257                1.045   \n",
       "\n",
       "       parker  isoelectric_point  aromaticity  hydrophobicity  stability  \\\n",
       "0       2.220           5.810364     0.103275       -0.143829  40.273300   \n",
       "1      -3.860           6.210876     0.065476       -0.036905  24.998512   \n",
       "2       4.280           8.223938     0.091787        0.879227  27.863333   \n",
       "3       6.320           4.237976     0.044776       -0.521393  30.765373   \n",
       "4       4.640           6.867493     0.103846       -0.578846  21.684615   \n",
       "...       ...                ...          ...             ...        ...   \n",
       "14382   0.820           4.894836     0.071719       -0.701083  46.875237   \n",
       "14383   1.160           4.894836     0.071719       -0.701083  46.875237   \n",
       "14384  -1.360           4.894836     0.071719       -0.701083  46.875237   \n",
       "14385   2.180           9.553040     0.044338       -0.671001  29.494308   \n",
       "14386   2.127           9.553040     0.044338       -0.671001  29.494308   \n",
       "\n",
       "       target  \n",
       "0           1  \n",
       "1           1  \n",
       "2           1  \n",
       "3           1  \n",
       "4           1  \n",
       "...       ...  \n",
       "14382       0  \n",
       "14383       0  \n",
       "14384       0  \n",
       "14385       0  \n",
       "14386       1  \n",
       "\n",
       "[14387 rows x 11 columns]"
      ]
     },
     "execution_count": 10,
     "metadata": {},
     "output_type": "execute_result"
    }
   ],
   "source": [
    "numerical_columns = df.select_dtypes(exclude=['object'])\n",
    "numerical_columns"
   ]
  },
  {
   "cell_type": "code",
   "execution_count": 13,
   "metadata": {},
   "outputs": [
    {
     "data": {
      "image/png": "[encoded data removed]",
      "text/plain": [
       "<Figure size 432x288 with 1 Axes>"
      ]
     },
     "metadata": {
      "needs_background": "light"
     },
     "output_type": "display_data"
    },
    {
     "data": {
      "image/png": "[encoded data removed]",
      "text/plain": [
       "<Figure size 432x288 with 1 Axes>"
      ]
     },
     "metadata": {
      "needs_background": "light"
     },
     "output_type": "display_data"
    },
    {
     "data": {
      "image/png": "[encoded data removed]",
      "text/plain": [
       "<Figure size 432x288 with 1 Axes>"
      ]
     },
     "metadata": {
      "needs_background": "light"
     },
     "output_type": "display_data"
    },
    {
     "data": {
      "image/png": "[encoded data removed]",
      "text/plain": [
       "<Figure size 432x288 with 1 Axes>"
      ]
     },
     "metadata": {
      "needs_background": "light"
     },
     "output_type": "display_data"
    },
    {
     "data": {
      "image/png": "[encoded data removed]",
      "text/plain": [
       "<Figure size 432x288 with 1 Axes>"
      ]
     },
     "metadata": {
      "needs_background": "light"
     },
     "output_type": "display_data"
    },
    {
     "data": {
      "image/png": "[encoded data removed]",
      "text/plain": [
       "<Figure size 432x288 with 1 Axes>"
      ]
     },
     "metadata": {
      "needs_background": "light"
     },
     "output_type": "display_data"
    },
    {
     "data": {
      "image/png": "[encoded data removed]",
      "text/plain": [
       "<Figure size 432x288 with 1 Axes>"
      ]
     },
     "metadata": {
      "needs_background": "light"
     },
     "output_type": "display_data"
    },
    {
     "data": {
      "image/png": "[encoded data removed]",
      "text/plain": [
       "<Figure size 432x288 with 1 Axes>"
      ]
     },
     "metadata": {
      "needs_background": "light"
     },
     "output_type": "display_data"
    },
    {
     "data": {
      "image/png": "[encoded data removed]",
      "text/plain": [
       "<Figure size 432x288 with 1 Axes>"
      ]
     },
     "metadata": {
      "needs_background": "light"
     },
     "output_type": "display_data"
    },
    {
     "data": {
      "image/png": "[encoded data removed]",
      "text/plain": [
       "<Figure size 432x288 with 1 Axes>"
      ]
     },
     "metadata": {
      "needs_background": "light"
     },
     "output_type": "display_data"
    },
    {
     "data": {
      "image/png": "[encoded data removed]",
      "text/plain": [
       "<Figure size 432x288 with 1 Axes>"
      ]
     },
     "metadata": {
      "needs_background": "light"
     },
     "output_type": "display_data"
    }
   ],
   "source": [
    "for i in numerical_columns:\n",
    "    plt.hist(df[f\"{i}\"])\n",
    "    plt.title(f\"{i} histogram\")\n",
    "    plt.xlabel(f\"{i}\")\n",
    "    plt.show()"
   ]
  },
  {
   "cell_type": "code",
   "execution_count": 15,
   "metadata": {},
   "outputs": [],
   "source": [
    "features = numerical_columns.drop(['target'],axis=1)\n",
    "target = numerical_columns.target.values.reshape(-1,1)"
   ]
  },
  {
   "cell_type": "code",
   "execution_count": 16,
   "metadata": {},
   "outputs": [
    {
     "data": {
      "text/html": [
       "<div>\n",
       "<style scoped>\n",
       "    .dataframe tbody tr th:only-of-type {\n",
       "        vertical-align: middle;\n",
       "    }\n",
       "\n",
       "    .dataframe tbody tr th {\n",
       "        vertical-align: top;\n",
       "    }\n",
       "\n",
       "    .dataframe thead th {\n",
       "        text-align: right;\n",
       "    }\n",
       "</style>\n",
       "<table border=\"1\" class=\"dataframe\">\n",
       "  <thead>\n",
       "    <tr style=\"text-align: right;\">\n",
       "      <th></th>\n",
       "      <th>start_position</th>\n",
       "      <th>end_position</th>\n",
       "      <th>chou_fasman</th>\n",
       "      <th>emini</th>\n",
       "      <th>kolaskar_tongaonkar</th>\n",
       "      <th>parker</th>\n",
       "      <th>isoelectric_point</th>\n",
       "      <th>aromaticity</th>\n",
       "      <th>hydrophobicity</th>\n",
       "      <th>stability</th>\n",
       "    </tr>\n",
       "  </thead>\n",
       "  <tbody>\n",
       "    <tr>\n",
       "      <th>0</th>\n",
       "      <td>161</td>\n",
       "      <td>165</td>\n",
       "      <td>1.016</td>\n",
       "      <td>0.703</td>\n",
       "      <td>1.018</td>\n",
       "      <td>2.220</td>\n",
       "      <td>5.810364</td>\n",
       "      <td>0.103275</td>\n",
       "      <td>-0.143829</td>\n",
       "      <td>40.273300</td>\n",
       "    </tr>\n",
       "    <tr>\n",
       "      <th>1</th>\n",
       "      <td>251</td>\n",
       "      <td>255</td>\n",
       "      <td>0.770</td>\n",
       "      <td>0.179</td>\n",
       "      <td>1.199</td>\n",
       "      <td>-3.860</td>\n",
       "      <td>6.210876</td>\n",
       "      <td>0.065476</td>\n",
       "      <td>-0.036905</td>\n",
       "      <td>24.998512</td>\n",
       "    </tr>\n",
       "    <tr>\n",
       "      <th>2</th>\n",
       "      <td>145</td>\n",
       "      <td>149</td>\n",
       "      <td>0.852</td>\n",
       "      <td>3.427</td>\n",
       "      <td>0.960</td>\n",
       "      <td>4.280</td>\n",
       "      <td>8.223938</td>\n",
       "      <td>0.091787</td>\n",
       "      <td>0.879227</td>\n",
       "      <td>27.863333</td>\n",
       "    </tr>\n",
       "    <tr>\n",
       "      <th>3</th>\n",
       "      <td>152</td>\n",
       "      <td>156</td>\n",
       "      <td>1.410</td>\n",
       "      <td>2.548</td>\n",
       "      <td>0.936</td>\n",
       "      <td>6.320</td>\n",
       "      <td>4.237976</td>\n",
       "      <td>0.044776</td>\n",
       "      <td>-0.521393</td>\n",
       "      <td>30.765373</td>\n",
       "    </tr>\n",
       "    <tr>\n",
       "      <th>4</th>\n",
       "      <td>85</td>\n",
       "      <td>89</td>\n",
       "      <td>1.214</td>\n",
       "      <td>1.908</td>\n",
       "      <td>0.937</td>\n",
       "      <td>4.640</td>\n",
       "      <td>6.867493</td>\n",
       "      <td>0.103846</td>\n",
       "      <td>-0.578846</td>\n",
       "      <td>21.684615</td>\n",
       "    </tr>\n",
       "    <tr>\n",
       "      <th>...</th>\n",
       "      <td>...</td>\n",
       "      <td>...</td>\n",
       "      <td>...</td>\n",
       "      <td>...</td>\n",
       "      <td>...</td>\n",
       "      <td>...</td>\n",
       "      <td>...</td>\n",
       "      <td>...</td>\n",
       "      <td>...</td>\n",
       "      <td>...</td>\n",
       "    </tr>\n",
       "    <tr>\n",
       "      <th>14382</th>\n",
       "      <td>177</td>\n",
       "      <td>191</td>\n",
       "      <td>0.910</td>\n",
       "      <td>0.175</td>\n",
       "      <td>1.054</td>\n",
       "      <td>0.820</td>\n",
       "      <td>4.894836</td>\n",
       "      <td>0.071719</td>\n",
       "      <td>-0.701083</td>\n",
       "      <td>46.875237</td>\n",
       "    </tr>\n",
       "    <tr>\n",
       "      <th>14383</th>\n",
       "      <td>285</td>\n",
       "      <td>299</td>\n",
       "      <td>0.966</td>\n",
       "      <td>0.216</td>\n",
       "      <td>1.044</td>\n",
       "      <td>1.160</td>\n",
       "      <td>4.894836</td>\n",
       "      <td>0.071719</td>\n",
       "      <td>-0.701083</td>\n",
       "      <td>46.875237</td>\n",
       "    </tr>\n",
       "    <tr>\n",
       "      <th>14384</th>\n",
       "      <td>189</td>\n",
       "      <td>203</td>\n",
       "      <td>0.821</td>\n",
       "      <td>0.023</td>\n",
       "      <td>1.044</td>\n",
       "      <td>-1.360</td>\n",
       "      <td>4.894836</td>\n",
       "      <td>0.071719</td>\n",
       "      <td>-0.701083</td>\n",
       "      <td>46.875237</td>\n",
       "    </tr>\n",
       "    <tr>\n",
       "      <th>14385</th>\n",
       "      <td>1479</td>\n",
       "      <td>1493</td>\n",
       "      <td>1.069</td>\n",
       "      <td>0.239</td>\n",
       "      <td>1.037</td>\n",
       "      <td>2.180</td>\n",
       "      <td>9.553040</td>\n",
       "      <td>0.044338</td>\n",
       "      <td>-0.671001</td>\n",
       "      <td>29.494308</td>\n",
       "    </tr>\n",
       "    <tr>\n",
       "      <th>14386</th>\n",
       "      <td>1647</td>\n",
       "      <td>1661</td>\n",
       "      <td>0.962</td>\n",
       "      <td>0.257</td>\n",
       "      <td>1.045</td>\n",
       "      <td>2.127</td>\n",
       "      <td>9.553040</td>\n",
       "      <td>0.044338</td>\n",
       "      <td>-0.671001</td>\n",
       "      <td>29.494308</td>\n",
       "    </tr>\n",
       "  </tbody>\n",
       "</table>\n",
       "<p>14387 rows × 10 columns</p>\n",
       "</div>"
      ],
      "text/plain": [
       "       start_position  end_position  chou_fasman  emini  kolaskar_tongaonkar  \\\n",
       "0                 161           165        1.016  0.703                1.018   \n",
       "1                 251           255        0.770  0.179                1.199   \n",
       "2                 145           149        0.852  3.427                0.960   \n",
       "3                 152           156        1.410  2.548                0.936   \n",
       "4                  85            89        1.214  1.908                0.937   \n",
       "...               ...           ...          ...    ...                  ...   \n",
       "14382             177           191        0.910  0.175                1.054   \n",
       "14383             285           299        0.966  0.216                1.044   \n",
       "14384             189           203        0.821  0.023                1.044   \n",
       "14385            1479          1493        1.069  0.239                1.037   \n",
       "14386            1647          1661        0.962  0.257                1.045   \n",
       "\n",
       "       parker  isoelectric_point  aromaticity  hydrophobicity  stability  \n",
       "0       2.220           5.810364     0.103275       -0.143829  40.273300  \n",
       "1      -3.860           6.210876     0.065476       -0.036905  24.998512  \n",
       "2       4.280           8.223938     0.091787        0.879227  27.863333  \n",
       "3       6.320           4.237976     0.044776       -0.521393  30.765373  \n",
       "4       4.640           6.867493     0.103846       -0.578846  21.684615  \n",
       "...       ...                ...          ...             ...        ...  \n",
       "14382   0.820           4.894836     0.071719       -0.701083  46.875237  \n",
       "14383   1.160           4.894836     0.071719       -0.701083  46.875237  \n",
       "14384  -1.360           4.894836     0.071719       -0.701083  46.875237  \n",
       "14385   2.180           9.553040     0.044338       -0.671001  29.494308  \n",
       "14386   2.127           9.553040     0.044338       -0.671001  29.494308  \n",
       "\n",
       "[14387 rows x 10 columns]"
      ]
     },
     "execution_count": 16,
     "metadata": {},
     "output_type": "execute_result"
    }
   ],
   "source": [
    "features"
   ]
  },
  {
   "cell_type": "code",
   "execution_count": 17,
   "metadata": {},
   "outputs": [
    {
     "data": {
      "text/plain": [
       "array([[1],\n",
       "       [1],\n",
       "       [1],\n",
       "       ...,\n",
       "       [0],\n",
       "       [0],\n",
       "       [1]], dtype=int64)"
      ]
     },
     "execution_count": 17,
     "metadata": {},
     "output_type": "execute_result"
    }
   ],
   "source": [
    "target"
   ]
  },
  {
   "cell_type": "code",
   "execution_count": 20,
   "metadata": {},
   "outputs": [
    {
     "data": {
      "image/png": "[encoded data removed]",
      "text/plain": [
       "<Figure size 432x288 with 1 Axes>"
      ]
     },
     "metadata": {
      "needs_background": "light"
     },
     "output_type": "display_data"
    },
    {
     "data": {
      "image/png": "[encoded data removed]",
      "text/plain": [
       "<Figure size 432x288 with 1 Axes>"
      ]
     },
     "metadata": {
      "needs_background": "light"
     },
     "output_type": "display_data"
    },
    {
     "data": {
      "image/png": "[encoded data removed]",
      "text/plain": [
       "<Figure size 432x288 with 1 Axes>"
      ]
     },
     "metadata": {
      "needs_background": "light"
     },
     "output_type": "display_data"
    },
    {
     "data": {
      "image/png": "[encoded data removed]",
      "text/plain": [
       "<Figure size 432x288 with 1 Axes>"
      ]
     },
     "metadata": {
      "needs_background": "light"
     },
     "output_type": "display_data"
    },
    {
     "data": {
      "image/png": "[encoded data removed]",
      "text/plain": [
       "<Figure size 432x288 with 1 Axes>"
      ]
     },
     "metadata": {
      "needs_background": "light"
     },
     "output_type": "display_data"
    },
    {
     "data": {
      "image/png": "[encoded data removed]",
      "text/plain": [
       "<Figure size 432x288 with 1 Axes>"
      ]
     },
     "metadata": {
      "needs_background": "light"
     },
     "output_type": "display_data"
    },
    {
     "data": {
      "image/png": "[encoded data removed]",
      "text/plain": [
       "<Figure size 432x288 with 1 Axes>"
      ]
     },
     "metadata": {
      "needs_background": "light"
     },
     "output_type": "display_data"
    },
    {
     "data": {
      "image/png": "[encoded data removed]",
      "text/plain": [
       "<Figure size 432x288 with 1 Axes>"
      ]
     },
     "metadata": {
      "needs_background": "light"
     },
     "output_type": "display_data"
    },
    {
     "data": {
      "image/png": "[encoded data removed]",
      "text/plain": [
       "<Figure size 432x288 with 1 Axes>"
      ]
     },
     "metadata": {
      "needs_background": "light"
     },
     "output_type": "display_data"
    },
    {
     "data": {
      "image/png": "[encoded data removed]",
      "text/plain": [
       "<Figure size 432x288 with 1 Axes>"
      ]
     },
     "metadata": {
      "needs_background": "light"
     },
     "output_type": "display_data"
    }
   ],
   "source": [
    "for i in features.columns:\n",
    "    plt.scatter(df[f\"{i}\"],target)\n",
    "    plt.title(f\"{i} and target\")\n",
    "    plt.xlabel(f\"{i}\")\n",
    "    plt.ylabel(\"target\")\n",
    "    plt.show()"
   ]
  },
  {
   "cell_type": "code",
   "execution_count": 21,
   "metadata": {},
   "outputs": [
    {
     "data": {
      "text/html": [
       "<div>\n",
       "<style scoped>\n",
       "    .dataframe tbody tr th:only-of-type {\n",
       "        vertical-align: middle;\n",
       "    }\n",
       "\n",
       "    .dataframe tbody tr th {\n",
       "        vertical-align: top;\n",
       "    }\n",
       "\n",
       "    .dataframe thead th {\n",
       "        text-align: right;\n",
       "    }\n",
       "</style>\n",
       "<table border=\"1\" class=\"dataframe\">\n",
       "  <thead>\n",
       "    <tr style=\"text-align: right;\">\n",
       "      <th></th>\n",
       "      <th>parent_protein_id</th>\n",
       "      <th>protein_seq</th>\n",
       "      <th>start_position</th>\n",
       "      <th>end_position</th>\n",
       "      <th>peptide_seq</th>\n",
       "      <th>chou_fasman</th>\n",
       "      <th>emini</th>\n",
       "      <th>kolaskar_tongaonkar</th>\n",
       "      <th>parker</th>\n",
       "      <th>isoelectric_point</th>\n",
       "      <th>aromaticity</th>\n",
       "      <th>hydrophobicity</th>\n",
       "      <th>stability</th>\n",
       "      <th>target</th>\n",
       "    </tr>\n",
       "  </thead>\n",
       "  <tbody>\n",
       "    <tr>\n",
       "      <th>0</th>\n",
       "      <td>A2T3T0</td>\n",
       "      <td>MDVLYSLSKTLKDARDKIVEGTLYSNVSDLIQQFNQMIITMNGNEF...</td>\n",
       "      <td>161</td>\n",
       "      <td>165</td>\n",
       "      <td>SASFT</td>\n",
       "      <td>1.016</td>\n",
       "      <td>0.703</td>\n",
       "      <td>1.018</td>\n",
       "      <td>2.220</td>\n",
       "      <td>5.810364</td>\n",
       "      <td>0.103275</td>\n",
       "      <td>-0.143829</td>\n",
       "      <td>40.273300</td>\n",
       "      <td>1</td>\n",
       "    </tr>\n",
       "    <tr>\n",
       "      <th>1</th>\n",
       "      <td>F0V2I4</td>\n",
       "      <td>MTIHKVAINGFGRIGRLLFRNLLSSQGVQVVAVNDVVDIKVLTHLL...</td>\n",
       "      <td>251</td>\n",
       "      <td>255</td>\n",
       "      <td>LCLKI</td>\n",
       "      <td>0.770</td>\n",
       "      <td>0.179</td>\n",
       "      <td>1.199</td>\n",
       "      <td>-3.860</td>\n",
       "      <td>6.210876</td>\n",
       "      <td>0.065476</td>\n",
       "      <td>-0.036905</td>\n",
       "      <td>24.998512</td>\n",
       "      <td>1</td>\n",
       "    </tr>\n",
       "    <tr>\n",
       "      <th>2</th>\n",
       "      <td>O75508</td>\n",
       "      <td>MVATCLQVVGFVTSFVGWIGVIVTTSTNDWVVTCGYTIPTCRKLDE...</td>\n",
       "      <td>145</td>\n",
       "      <td>149</td>\n",
       "      <td>AHRET</td>\n",
       "      <td>0.852</td>\n",
       "      <td>3.427</td>\n",
       "      <td>0.960</td>\n",
       "      <td>4.280</td>\n",
       "      <td>8.223938</td>\n",
       "      <td>0.091787</td>\n",
       "      <td>0.879227</td>\n",
       "      <td>27.863333</td>\n",
       "      <td>1</td>\n",
       "    </tr>\n",
       "    <tr>\n",
       "      <th>3</th>\n",
       "      <td>O84462</td>\n",
       "      <td>MTNSISGYQPTVTTSTSSTTSASGASGSLGASSVSTTANATVTQTA...</td>\n",
       "      <td>152</td>\n",
       "      <td>156</td>\n",
       "      <td>SNYDD</td>\n",
       "      <td>1.410</td>\n",
       "      <td>2.548</td>\n",
       "      <td>0.936</td>\n",
       "      <td>6.320</td>\n",
       "      <td>4.237976</td>\n",
       "      <td>0.044776</td>\n",
       "      <td>-0.521393</td>\n",
       "      <td>30.765373</td>\n",
       "      <td>1</td>\n",
       "    </tr>\n",
       "    <tr>\n",
       "      <th>4</th>\n",
       "      <td>P00918</td>\n",
       "      <td>MSHHWGYGKHNGPEHWHKDFPIAKGERQSPVDIDTHTAKYDPSLKP...</td>\n",
       "      <td>85</td>\n",
       "      <td>89</td>\n",
       "      <td>DGTYR</td>\n",
       "      <td>1.214</td>\n",
       "      <td>1.908</td>\n",
       "      <td>0.937</td>\n",
       "      <td>4.640</td>\n",
       "      <td>6.867493</td>\n",
       "      <td>0.103846</td>\n",
       "      <td>-0.578846</td>\n",
       "      <td>21.684615</td>\n",
       "      <td>1</td>\n",
       "    </tr>\n",
       "    <tr>\n",
       "      <th>...</th>\n",
       "      <td>...</td>\n",
       "      <td>...</td>\n",
       "      <td>...</td>\n",
       "      <td>...</td>\n",
       "      <td>...</td>\n",
       "      <td>...</td>\n",
       "      <td>...</td>\n",
       "      <td>...</td>\n",
       "      <td>...</td>\n",
       "      <td>...</td>\n",
       "      <td>...</td>\n",
       "      <td>...</td>\n",
       "      <td>...</td>\n",
       "      <td>...</td>\n",
       "    </tr>\n",
       "    <tr>\n",
       "      <th>14382</th>\n",
       "      <td>Q91DE1</td>\n",
       "      <td>MDRGTRRIWVSQNQGDTDLDYHKILTAGLTVQQGIVRQKIISVYLV...</td>\n",
       "      <td>177</td>\n",
       "      <td>191</td>\n",
       "      <td>QVHAEQGLIQYPTAW</td>\n",
       "      <td>0.910</td>\n",
       "      <td>0.175</td>\n",
       "      <td>1.054</td>\n",
       "      <td>0.820</td>\n",
       "      <td>4.894836</td>\n",
       "      <td>0.071719</td>\n",
       "      <td>-0.701083</td>\n",
       "      <td>46.875237</td>\n",
       "      <td>0</td>\n",
       "    </tr>\n",
       "    <tr>\n",
       "      <th>14383</th>\n",
       "      <td>Q91DE1</td>\n",
       "      <td>MDRGTRRIWVSQNQGDTDLDYHKILTAGLTVQQGIVRQKIISVYLV...</td>\n",
       "      <td>285</td>\n",
       "      <td>299</td>\n",
       "      <td>SSLAKHGEYAPFARL</td>\n",
       "      <td>0.966</td>\n",
       "      <td>0.216</td>\n",
       "      <td>1.044</td>\n",
       "      <td>1.160</td>\n",
       "      <td>4.894836</td>\n",
       "      <td>0.071719</td>\n",
       "      <td>-0.701083</td>\n",
       "      <td>46.875237</td>\n",
       "      <td>0</td>\n",
       "    </tr>\n",
       "    <tr>\n",
       "      <th>14384</th>\n",
       "      <td>Q91DE1</td>\n",
       "      <td>MDRGTRRIWVSQNQGDTDLDYHKILTAGLTVQQGIVRQKIISVYLV...</td>\n",
       "      <td>189</td>\n",
       "      <td>203</td>\n",
       "      <td>TAWQSVGHMMVIFRL</td>\n",
       "      <td>0.821</td>\n",
       "      <td>0.023</td>\n",
       "      <td>1.044</td>\n",
       "      <td>-1.360</td>\n",
       "      <td>4.894836</td>\n",
       "      <td>0.071719</td>\n",
       "      <td>-0.701083</td>\n",
       "      <td>46.875237</td>\n",
       "      <td>0</td>\n",
       "    </tr>\n",
       "    <tr>\n",
       "      <th>14385</th>\n",
       "      <td>Q9QZS0</td>\n",
       "      <td>MHSKTAPRFLVFLLLTLLLLLAASPVASKGCVCKGKGQCLCAGTKG...</td>\n",
       "      <td>1479</td>\n",
       "      <td>1493</td>\n",
       "      <td>KRAHGQDLGTLGSCL</td>\n",
       "      <td>1.069</td>\n",
       "      <td>0.239</td>\n",
       "      <td>1.037</td>\n",
       "      <td>2.180</td>\n",
       "      <td>9.553040</td>\n",
       "      <td>0.044338</td>\n",
       "      <td>-0.671001</td>\n",
       "      <td>29.494308</td>\n",
       "      <td>0</td>\n",
       "    </tr>\n",
       "    <tr>\n",
       "      <th>14386</th>\n",
       "      <td>Q9QZS0</td>\n",
       "      <td>MHSKTAPRFLVFLLLTLLLLLAASPVASKGCVCKGKGQCLCAGTKG...</td>\n",
       "      <td>1647</td>\n",
       "      <td>1661</td>\n",
       "      <td>STVKAGDLEKIISRC</td>\n",
       "      <td>0.962</td>\n",
       "      <td>0.257</td>\n",
       "      <td>1.045</td>\n",
       "      <td>2.127</td>\n",
       "      <td>9.553040</td>\n",
       "      <td>0.044338</td>\n",
       "      <td>-0.671001</td>\n",
       "      <td>29.494308</td>\n",
       "      <td>1</td>\n",
       "    </tr>\n",
       "  </tbody>\n",
       "</table>\n",
       "<p>14387 rows × 14 columns</p>\n",
       "</div>"
      ],
      "text/plain": [
       "      parent_protein_id                                        protein_seq  \\\n",
       "0                A2T3T0  MDVLYSLSKTLKDARDKIVEGTLYSNVSDLIQQFNQMIITMNGNEF...   \n",
       "1                F0V2I4  MTIHKVAINGFGRIGRLLFRNLLSSQGVQVVAVNDVVDIKVLTHLL...   \n",
       "2                O75508  MVATCLQVVGFVTSFVGWIGVIVTTSTNDWVVTCGYTIPTCRKLDE...   \n",
       "3                O84462  MTNSISGYQPTVTTSTSSTTSASGASGSLGASSVSTTANATVTQTA...   \n",
       "4                P00918  MSHHWGYGKHNGPEHWHKDFPIAKGERQSPVDIDTHTAKYDPSLKP...   \n",
       "...                 ...                                                ...   \n",
       "14382            Q91DE1  MDRGTRRIWVSQNQGDTDLDYHKILTAGLTVQQGIVRQKIISVYLV...   \n",
       "14383            Q91DE1  MDRGTRRIWVSQNQGDTDLDYHKILTAGLTVQQGIVRQKIISVYLV...   \n",
       "14384            Q91DE1  MDRGTRRIWVSQNQGDTDLDYHKILTAGLTVQQGIVRQKIISVYLV...   \n",
       "14385            Q9QZS0  MHSKTAPRFLVFLLLTLLLLLAASPVASKGCVCKGKGQCLCAGTKG...   \n",
       "14386            Q9QZS0  MHSKTAPRFLVFLLLTLLLLLAASPVASKGCVCKGKGQCLCAGTKG...   \n",
       "\n",
       "       start_position  end_position      peptide_seq  chou_fasman  emini  \\\n",
       "0                 161           165            SASFT        1.016  0.703   \n",
       "1                 251           255            LCLKI        0.770  0.179   \n",
       "2                 145           149            AHRET        0.852  3.427   \n",
       "3                 152           156            SNYDD        1.410  2.548   \n",
       "4                  85            89            DGTYR        1.214  1.908   \n",
       "...               ...           ...              ...          ...    ...   \n",
       "14382             177           191  QVHAEQGLIQYPTAW        0.910  0.175   \n",
       "14383             285           299  SSLAKHGEYAPFARL        0.966  0.216   \n",
       "14384             189           203  TAWQSVGHMMVIFRL        0.821  0.023   \n",
       "14385            1479          1493  KRAHGQDLGTLGSCL        1.069  0.239   \n",
       "14386            1647          1661  STVKAGDLEKIISRC        0.962  0.257   \n",
       "\n",
       "       kolaskar_tongaonkar  parker  isoelectric_point  aromaticity  \\\n",
       "0                    1.018   2.220           5.810364     0.103275   \n",
       "1                    1.199  -3.860           6.210876     0.065476   \n",
       "2                    0.960   4.280           8.223938     0.091787   \n",
       "3                    0.936   6.320           4.237976     0.044776   \n",
       "4                    0.937   4.640           6.867493     0.103846   \n",
       "...                    ...     ...                ...          ...   \n",
       "14382                1.054   0.820           4.894836     0.071719   \n",
       "14383                1.044   1.160           4.894836     0.071719   \n",
       "14384                1.044  -1.360           4.894836     0.071719   \n",
       "14385                1.037   2.180           9.553040     0.044338   \n",
       "14386                1.045   2.127           9.553040     0.044338   \n",
       "\n",
       "       hydrophobicity  stability  target  \n",
       "0           -0.143829  40.273300       1  \n",
       "1           -0.036905  24.998512       1  \n",
       "2            0.879227  27.863333       1  \n",
       "3           -0.521393  30.765373       1  \n",
       "4           -0.578846  21.684615       1  \n",
       "...               ...        ...     ...  \n",
       "14382       -0.701083  46.875237       0  \n",
       "14383       -0.701083  46.875237       0  \n",
       "14384       -0.701083  46.875237       0  \n",
       "14385       -0.671001  29.494308       0  \n",
       "14386       -0.671001  29.494308       1  \n",
       "\n",
       "[14387 rows x 14 columns]"
      ]
     },
     "execution_count": 21,
     "metadata": {},
     "output_type": "execute_result"
    }
   ],
   "source": [
    "df"
   ]
  },
  {
   "cell_type": "code",
   "execution_count": null,
   "metadata": {},
   "outputs": [],
   "source": []
  },
  {
   "cell_type": "code",
   "execution_count": null,
   "metadata": {},
   "outputs": [],
   "source": []
  },
  {
   "cell_type": "code",
   "execution_count": null,
   "metadata": {},
   "outputs": [],
   "source": []
  },
  {
   "cell_type": "code",
   "execution_count": null,
   "metadata": {},
   "outputs": [],
   "source": []
  }
 ],
 "metadata": {
  "kernelspec": {
   "display_name": "Python 3",
   "language": "python",
   "name": "python3"
  },
  "language_info": {
   "codemirror_mode": {
    "name": "ipython",
    "version": 3
   },
   "file_extension": ".py",
   "mimetype": "text/x-python",
   "name": "python",
   "nbconvert_exporter": "python",
   "pygments_lexer": "ipython3",
   "version": "3.7.7"
  }
 },
 "nbformat": 4,
 "nbformat_minor": 4
}
